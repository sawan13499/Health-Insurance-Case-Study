{
 "cells": [
  {
   "cell_type": "markdown",
   "id": "4927e22f",
   "metadata": {},
   "source": [
    "<table align=\"center\" width=100%>\n",
    "    <tr>\n",
    "        <td>\n",
    "            <div align=\"center\">\n",
    "                <font color=\"#21618C\" size=24px>\n",
    "                    <b> Health Insurance Case study </b>\n",
    "                    </b>\n",
    "                </font>\n",
    "            </div>\n",
    "        </td>\n",
    "    </tr>\n",
    "</table>"
   ]
  },
  {
   "cell_type": "markdown",
   "id": "69bf2c14",
   "metadata": {},
   "source": [
    "## Data Definition\n",
    "\n",
    "**age** : Age of the policyholder (Numeric)\n",
    "\n",
    "**sex:** Gender of policyholder (Categoric)\n",
    "\n",
    "**bmi**: Body mass index, providing an understanding of body, weights that are relatively high or low relative to height, objective index of body weight (kg / m ^ 2) using the ratio of height to weight (Numeric)\n",
    "\n",
    "**children:** Number of children covered by health insurance / Number of dependents (Numeric)\n",
    "\n",
    "**smoker:** Indicates policyholder is a smoker or a non-smoker (non-smoker=0;smoker=1) (Categoric)\n",
    "\n",
    "**region:** The beneficiary's residential area in the US, northeast, southeast, southwest, northwest.(Categoric)\n",
    "\n",
    "**charges:**  Individual medical costs billed by health insurance. (Numerical)"
   ]
  },
  {
   "cell_type": "code",
   "execution_count": null,
   "id": "b7f5646a",
   "metadata": {},
   "outputs": [],
   "source": [
    "# supress warnings \n",
    "from warnings import filterwarnings\n",
    "filterwarnings('ignore')\n",
    "\n",
    "# 'Os' module provides functions for interacting with the operating system \n",
    "import os\n",
    "\n",
    "# 'Pandas' is used for data manipulation and analysis\n",
    "import pandas as pd \n",
    "\n",
    "# 'Numpy' is used for mathematical operations on large, multi-dimensional arrays and matrices\n",
    "import numpy as np\n",
    "\n",
    "# 'Matplotlib' is a data visualization library for 2D and 3D plots, built on numpy\n",
    "import matplotlib.pyplot as plt\n",
    "%matplotlib inline\n",
    "\n",
    "# 'Seaborn' is based on matplotlib; used for plotting statistical graphics\n",
    "import seaborn as sns # we use seaborn as it gives more smoother visualizations than pyplot but we have to iport pyplot as it uses the output of pyplot to give its own output\n",
    "\n",
    "# 'Scikit-learn' (sklearn) emphasizes various regression, classification and clustering algorithms\n",
    "from sklearn.model_selection import train_test_split\n",
    "from sklearn.metrics import mean_squared_error, mean_absolute_error, r2_score\n",
    "from sklearn.model_selection import GridSearchCV\n",
    "from sklearn.linear_model import ElasticNet\n",
    "from sklearn.linear_model import LinearRegression\n",
    "from sklearn.preprocessing import StandardScaler\n",
    "from sklearn.model_selection import cross_val_score\n",
    "\n",
    "# import function for ridge regression\n",
    "from sklearn.linear_model import Ridge\n",
    "\n",
    "# import function for lasso regression\n",
    "from sklearn.linear_model import Lasso\n",
    "\n",
    "# import function for elastic net regression\n",
    "from sklearn.linear_model import ElasticNet\n",
    "\n",
    "# 'Statsmodels' is used to build and analyze various statistical models\n",
    "import statsmodels \n",
    "import statsmodels.api as sm #This allows us to import lot more functionalities in statsmodel libraries \n",
    "import statsmodels.stats.api as sms #This allows ws to import only statistical models \n",
    "from statsmodels.tools.eval_measures import rmse #evaluates model performance \n",
    "from statsmodels.compat import lzip #helps in compacting the data in case the data is to huge and we want to zip it \n",
    "from statsmodels.graphics.gofplots import ProbPlot \n",
    "\n",
    "# 'SciPy' is used to perform scientific computations\n",
    "from scipy.stats import f_oneway\n",
    "from scipy.stats import jarque_bera\n",
    "from scipy import stats"
   ]
  },
  {
   "cell_type": "markdown",
   "id": "73e10840",
   "metadata": {},
   "source": [
    "## 2. Set Options"
   ]
  },
  {
   "cell_type": "code",
   "execution_count": null,
   "id": "7f19f45a",
   "metadata": {},
   "outputs": [],
   "source": [
    "pd.options.display.max_columns = None # displays all the columns in the dataframe\n",
    "#pd.options.display.max_rows = None # displays all the rows in the dataset if necessary\n",
    "pd.options.display.float_format = '{:.6f}'.format # returns an output value upto 6 decimals"
   ]
  },
  {
   "cell_type": "markdown",
   "id": "8b035708",
   "metadata": {},
   "source": [
    "## 3. Read Data"
   ]
  },
  {
   "cell_type": "code",
   "execution_count": 7,
   "id": "20e9b443",
   "metadata": {},
   "outputs": [
    {
     "data": {
      "text/html": [
       "<div>\n",
       "<style scoped>\n",
       "    .dataframe tbody tr th:only-of-type {\n",
       "        vertical-align: middle;\n",
       "    }\n",
       "\n",
       "    .dataframe tbody tr th {\n",
       "        vertical-align: top;\n",
       "    }\n",
       "\n",
       "    .dataframe thead th {\n",
       "        text-align: right;\n",
       "    }\n",
       "</style>\n",
       "<table border=\"1\" class=\"dataframe\">\n",
       "  <thead>\n",
       "    <tr style=\"text-align: right;\">\n",
       "      <th></th>\n",
       "      <th>age</th>\n",
       "      <th>sex</th>\n",
       "      <th>bmi</th>\n",
       "      <th>children</th>\n",
       "      <th>smoker</th>\n",
       "      <th>region</th>\n",
       "      <th>charges</th>\n",
       "    </tr>\n",
       "  </thead>\n",
       "  <tbody>\n",
       "    <tr>\n",
       "      <th>0</th>\n",
       "      <td>19</td>\n",
       "      <td>female</td>\n",
       "      <td>27.900</td>\n",
       "      <td>0</td>\n",
       "      <td>yes</td>\n",
       "      <td>southwest</td>\n",
       "      <td>16884.92400</td>\n",
       "    </tr>\n",
       "    <tr>\n",
       "      <th>1</th>\n",
       "      <td>18</td>\n",
       "      <td>male</td>\n",
       "      <td>33.770</td>\n",
       "      <td>1</td>\n",
       "      <td>no</td>\n",
       "      <td>southeast</td>\n",
       "      <td>1725.55230</td>\n",
       "    </tr>\n",
       "    <tr>\n",
       "      <th>2</th>\n",
       "      <td>28</td>\n",
       "      <td>male</td>\n",
       "      <td>33.000</td>\n",
       "      <td>3</td>\n",
       "      <td>no</td>\n",
       "      <td>southeast</td>\n",
       "      <td>4449.46200</td>\n",
       "    </tr>\n",
       "    <tr>\n",
       "      <th>3</th>\n",
       "      <td>33</td>\n",
       "      <td>male</td>\n",
       "      <td>22.705</td>\n",
       "      <td>0</td>\n",
       "      <td>no</td>\n",
       "      <td>northwest</td>\n",
       "      <td>21984.47061</td>\n",
       "    </tr>\n",
       "    <tr>\n",
       "      <th>4</th>\n",
       "      <td>32</td>\n",
       "      <td>male</td>\n",
       "      <td>28.880</td>\n",
       "      <td>0</td>\n",
       "      <td>no</td>\n",
       "      <td>northwest</td>\n",
       "      <td>3866.85520</td>\n",
       "    </tr>\n",
       "  </tbody>\n",
       "</table>\n",
       "</div>"
      ],
      "text/plain": [
       "   age     sex     bmi  children smoker     region      charges\n",
       "0   19  female  27.900         0    yes  southwest  16884.92400\n",
       "1   18    male  33.770         1     no  southeast   1725.55230\n",
       "2   28    male  33.000         3     no  southeast   4449.46200\n",
       "3   33    male  22.705         0     no  northwest  21984.47061\n",
       "4   32    male  28.880         0     no  northwest   3866.85520"
      ]
     },
     "execution_count": 7,
     "metadata": {},
     "output_type": "execute_result"
    }
   ],
   "source": [
    "df = pd.read_csv('insurance.csv')\n",
    "df.head() # if you want more than 5 rows use head(number of rows you want to add) \n",
    "#df.tail() gives the last 5 values in the datafrmae "
   ]
  },
  {
   "cell_type": "markdown",
   "id": "87d53d05",
   "metadata": {},
   "source": [
    "## 4. Data Analysis and preparation"
   ]
  },
  {
   "cell_type": "markdown",
   "id": "0de48ff4",
   "metadata": {},
   "source": [
    "### 4.1 Understand The Dataset"
   ]
  },
  {
   "cell_type": "markdown",
   "id": "b732c3a5",
   "metadata": {},
   "source": [
    "#### 4.1.1 Data Dimension"
   ]
  },
  {
   "cell_type": "code",
   "execution_count": 10,
   "id": "4c7860cf",
   "metadata": {},
   "outputs": [
    {
     "data": {
      "text/plain": [
       "(1338, 7)"
      ]
     },
     "execution_count": 10,
     "metadata": {},
     "output_type": "execute_result"
    }
   ],
   "source": [
    "df.shape"
   ]
  },
  {
   "cell_type": "markdown",
   "id": "853b0d9f",
   "metadata": {},
   "source": [
    "We see that there is 7 columns and 1338 rows, in which 6 columns are the idependent variables whereas the 7th column 'Charges' is the dependent variable."
   ]
  },
  {
   "cell_type": "markdown",
   "id": "4e71b1c4",
   "metadata": {},
   "source": [
    "### 4.1.2 Data Types "
   ]
  },
  {
   "cell_type": "markdown",
   "id": "26f2c356",
   "metadata": {},
   "source": [
    "**1. Check Datatypes**"
   ]
  },
  {
   "cell_type": "code",
   "execution_count": 11,
   "id": "bcaaeb1a",
   "metadata": {},
   "outputs": [
    {
     "data": {
      "text/plain": [
       "age           int64\n",
       "sex          object\n",
       "bmi         float64\n",
       "children      int64\n",
       "smoker       object\n",
       "region       object\n",
       "charges     float64\n",
       "dtype: object"
      ]
     },
     "execution_count": 11,
     "metadata": {},
     "output_type": "execute_result"
    }
   ],
   "source": [
    "df.dtypes"
   ]
  },
  {
   "cell_type": "markdown",
   "id": "6a6115be",
   "metadata": {},
   "source": [
    "We see there are object datatypes which is not good as they store the values as string or numbers, hence may take more storage. So we have to convert them to ctaegorical variables which store the string values in a int format reducing the storage size and also ML models don't work with text data they have to be converted to numerics. Most of the time columns such as name,email id etc which have unique values for each row are droppped as there main aim is to track individuals and are not useful for ML models."
   ]
  },
  {
   "cell_type": "markdown",
   "id": "1acdd182",
   "metadata": {},
   "source": [
    "**2. Change Datatypes**"
   ]
  },
  {
   "cell_type": "code",
   "execution_count": 12,
   "id": "9daea069",
   "metadata": {},
   "outputs": [],
   "source": [
    "df.sex = df.sex.astype('category')\n",
    "df.smoker = df.smoker.astype('category')\n",
    "df.region = df.region.astype('category')"
   ]
  },
  {
   "cell_type": "markdown",
   "id": "b8662d25",
   "metadata": {},
   "source": [
    "**3. Rececking the datatypes after conversion**"
   ]
  },
  {
   "cell_type": "code",
   "execution_count": 13,
   "id": "35a7942f",
   "metadata": {},
   "outputs": [
    {
     "data": {
      "text/plain": [
       "age            int64\n",
       "sex         category\n",
       "bmi          float64\n",
       "children       int64\n",
       "smoker      category\n",
       "region      category\n",
       "charges      float64\n",
       "dtype: object"
      ]
     },
     "execution_count": 13,
     "metadata": {},
     "output_type": "execute_result"
    }
   ],
   "source": [
    "df.dtypes"
   ]
  },
  {
   "cell_type": "code",
   "execution_count": null,
   "id": "688742f7",
   "metadata": {},
   "outputs": [],
   "source": []
  }
 ],
 "metadata": {
  "kernelspec": {
   "display_name": "base",
   "language": "python",
   "name": "python3"
  },
  "language_info": {
   "codemirror_mode": {
    "name": "ipython",
    "version": 3
   },
   "file_extension": ".py",
   "mimetype": "text/x-python",
   "name": "python",
   "nbconvert_exporter": "python",
   "pygments_lexer": "ipython3",
   "version": "3.12.7"
  }
 },
 "nbformat": 4,
 "nbformat_minor": 5
}
